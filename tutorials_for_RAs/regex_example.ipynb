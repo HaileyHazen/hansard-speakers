{
 "metadata": {
  "language_info": {
   "codemirror_mode": {
    "name": "ipython",
    "version": 3
   },
   "file_extension": ".py",
   "mimetype": "text/x-python",
   "name": "python",
   "nbconvert_exporter": "python",
   "pygments_lexer": "ipython3",
   "version": "3.8.3-final"
  },
  "orig_nbformat": 2,
  "kernelspec": {
   "name": "python3",
   "display_name": "Python 3",
   "language": "python"
  }
 },
 "nbformat": 4,
 "nbformat_minor": 2,
 "cells": [
  {
   "source": [
    "## Regex 101, Applied to Hansard Speaker Names"
   ],
   "cell_type": "markdown",
   "metadata": {}
  },
  {
   "source": [
    "Problem: Writing every individual name for a find/replace dictionary can be time consuming. Also, it's easy to forget whether you have already added a specific iteration of a name.\n",
    "\n",
    "Solution: Many of the misspellings in the Hansard data are OCR errors. Therefore, many misspellings have patterns. Try using regular expressions to match multiple misspellings at once. The implementation of regular expressions requires careful attention. We don't want to match with the wrong words. "
   ],
   "cell_type": "markdown",
   "metadata": {}
  },
  {
   "source": [
    "### Code"
   ],
   "cell_type": "markdown",
   "metadata": {}
  },
  {
   "source": [
    "First import required modules."
   ],
   "cell_type": "markdown",
   "metadata": {}
  },
  {
   "cell_type": "code",
   "execution_count": 4,
   "metadata": {},
   "outputs": [],
   "source": [
    "import re"
   ]
  },
  {
   "source": [
    "Now let's create the example text for which we will write regular expressions."
   ],
   "cell_type": "markdown",
   "metadata": {}
  },
  {
   "cell_type": "code",
   "execution_count": 5,
   "metadata": {},
   "outputs": [],
   "source": [
    "text = 'fisheries', 'school district', 'meat industry', 'fisiieries', 'fisiiery', 'fisiieeries'"
   ]
  },
  {
   "cell_type": "code",
   "execution_count": 6,
   "metadata": {},
   "outputs": [
    {
     "output_type": "execute_result",
     "data": {
      "text/plain": [
       "('fisheries',\n",
       " 'school district',\n",
       " 'meat industry',\n",
       " 'fisiieries',\n",
       " 'fisiiery',\n",
       " 'fisiieeries')"
      ]
     },
     "metadata": {},
     "execution_count": 6
    }
   ],
   "source": [
    "text"
   ]
  },
  {
   "source": [
    "If we wanted to match with all three spellings of \"fisheries\" (so, fisheries, fisiieries, and fisiieeries) we could use a \"greedy regular expression\" that matches with any characters between the \"s\" and the \"e\" of fisheries. "
   ],
   "cell_type": "markdown",
   "metadata": {}
  },
  {
   "cell_type": "code",
   "execution_count": 7,
   "metadata": {},
   "outputs": [],
   "source": [
    "list_of_matches = []\n",
    "\n",
    "for item in text:\n",
    "    match = re.search(r'fis(.*)eries', item)\n",
    "    list_of_matches.append(match)"
   ]
  },
  {
   "cell_type": "code",
   "execution_count": 9,
   "metadata": {},
   "outputs": [
    {
     "output_type": "execute_result",
     "data": {
      "text/plain": [
       "[<re.Match object; span=(0, 9), match='fisheries'>,\n",
       " None,\n",
       " None,\n",
       " <re.Match object; span=(0, 10), match='fisiieries'>,\n",
       " None,\n",
       " <re.Match object; span=(0, 11), match='fisiieeries'>]"
      ]
     },
     "metadata": {},
     "execution_count": 9
    }
   ],
   "source": [
    "list_of_matches"
   ]
  },
  {
   "source": [
    "Note that a greedy regular expression expands to include all characters between \"s\" and \"e,\" so it matches with \"ii\" and \"iie.\"\n",
    "\n",
    "Therefore, you do not need to specify the number of characters being replaced.\n",
    "\n",
    "We could also use a regular expression if we wanted to match with \"fisiiery\" (for fishery). However, this time we need to tell the greedy regular expression to stop at the end of the word (so it doesn't also expand to include other words). \n",
    "\n",
    "We can signal a word boundary with `\\b`."
   ],
   "cell_type": "markdown",
   "metadata": {}
  },
  {
   "cell_type": "code",
   "execution_count": 11,
   "metadata": {},
   "outputs": [],
   "source": [
    "list_of_matches_2 = []\n",
    "\n",
    "for item in text:\n",
    "    match = re.search(r'fis(.*)er(.*)\\b', item)\n",
    "    list_of_matches_2.append(match)"
   ]
  },
  {
   "cell_type": "code",
   "execution_count": 12,
   "metadata": {},
   "outputs": [
    {
     "output_type": "execute_result",
     "data": {
      "text/plain": [
       "[<re.Match object; span=(0, 9), match='fisheries'>,\n",
       " None,\n",
       " None,\n",
       " <re.Match object; span=(0, 10), match='fisiieries'>,\n",
       " <re.Match object; span=(0, 8), match='fisiiery'>,\n",
       " <re.Match object; span=(0, 11), match='fisiieeries'>]"
      ]
     },
     "metadata": {},
     "execution_count": 12
    }
   ],
   "source": [
    "list_of_matches_2"
   ]
  },
  {
   "source": [
    "In some situations it might not be wise to use a greedy regular expression. Let's say we had a variable for office titles and we wanted to match with every misspelling of \"lord.\" If we wrote `l(.*)d` we would also match with \"labcd.\"\n",
    "\n",
    "Instead we will use just `.` without the `*` to match with an exact number."
   ],
   "cell_type": "markdown",
   "metadata": {}
  },
  {
   "cell_type": "code",
   "execution_count": 10,
   "metadata": {},
   "outputs": [],
   "source": [
    "titles = 'lord smith', 'lard smith', 'loud smith', 'loed smith', 'labcd'"
   ]
  },
  {
   "cell_type": "code",
   "execution_count": 11,
   "metadata": {},
   "outputs": [],
   "source": [
    "# A greedy approach would be problematic here. Instead we should match the exact number of letters we wish to replace.\n",
    "\n",
    "list_of_matches_3 = []\n",
    "\n",
    "for item in titles:\n",
    "    match = re.search(r'l(.)(.)d', item)\n",
    "    list_of_matches_3.append(match)"
   ]
  },
  {
   "cell_type": "code",
   "execution_count": 12,
   "metadata": {},
   "outputs": [
    {
     "output_type": "execute_result",
     "data": {
      "text/plain": [
       "[<re.Match object; span=(0, 4), match='lord'>,\n",
       " <re.Match object; span=(0, 4), match='lard'>,\n",
       " <re.Match object; span=(0, 4), match='loud'>,\n",
       " <re.Match object; span=(0, 4), match='loed'>,\n",
       " None]"
      ]
     },
     "metadata": {},
     "execution_count": 12
    }
   ],
   "source": [
    "list_of_matches_3"
   ]
  },
  {
   "source": [
    "### Quiz"
   ],
   "cell_type": "markdown",
   "metadata": {}
  },
  {
   "source": [
    "What regex might we write to match with the following name?"
   ],
   "cell_type": "markdown",
   "metadata": {}
  },
  {
   "cell_type": "code",
   "execution_count": null,
   "metadata": {},
   "outputs": [],
   "source": [
    "names = 'Lord Ellenborough', 'Lord Ellen borough', 'Lord Ellen-borough'"
   ]
  }
 ]
}